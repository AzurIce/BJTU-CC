{
 "cells": [
  {
   "cell_type": "code",
   "execution_count": null,
   "metadata": {
    "collapsed": true
   },
   "outputs": [],
   "source": []
  },
  {
   "cell_type": "code",
   "execution_count": 2,
   "outputs": [
    {
     "data": {
      "text/plain": "{'success': True,\n 'code': '0',\n 'message': 'success',\n 'data': {'result': '3', 'id': 'zBWwagY2RySX7Stm4ZFFHQ'}}"
     },
     "execution_count": 2,
     "metadata": {},
     "output_type": "execute_result"
    }
   ],
   "source": [
    "import base64\n",
    "import json\n",
    "import requests\n",
    "\n",
    "with open('./captcha.png', 'rb') as f:\n",
    "    base64_data = base64.b64encode(f.read())\n",
    "    b64 = base64_data.decode()\n",
    "data = {\"username\": 'AzurIce', \"password\": 'xb021009', \"typeid\": 11, \"image\": b64}\n",
    "result = json.loads(\n",
    "    requests.post(\"http://api.ttshitu.com/predict\", json=data).text)\n",
    "result\n",
    "# if result['success']:\n",
    "#     result[\"data\"][\"result\"]\n",
    "# else:\n",
    "#     result[\"message\"]"
   ],
   "metadata": {
    "collapsed": false,
    "ExecuteTime": {
     "end_time": "2023-06-15T04:24:01.707024200Z",
     "start_time": "2023-06-15T04:23:59.694745500Z"
    }
   }
  }
 ],
 "metadata": {
  "kernelspec": {
   "display_name": "Python 3",
   "language": "python",
   "name": "python3"
  },
  "language_info": {
   "codemirror_mode": {
    "name": "ipython",
    "version": 2
   },
   "file_extension": ".py",
   "mimetype": "text/x-python",
   "name": "python",
   "nbconvert_exporter": "python",
   "pygments_lexer": "ipython2",
   "version": "2.7.6"
  }
 },
 "nbformat": 4,
 "nbformat_minor": 0
}
